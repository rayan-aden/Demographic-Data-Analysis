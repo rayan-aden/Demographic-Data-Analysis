{
 "cells": [
  {
   "cell_type": "markdown",
   "id": "ccaccf89-b9ed-4919-a130-a26ca7bc8a1d",
   "metadata": {},
   "source": [
    "# Demograhic Data Analysis with Pandas\n",
    "\n",
    "### In this notebook, I will analyse demographic data extracted from the 1994 U.S. Census database. The goal is to explore the dataset using Python and Pandas, answering any key demographic questions including education, occupation, income and more."
   ]
  },
  {
   "cell_type": "markdown",
   "id": "dc240e19-a81a-49fa-8346-9a7f505c61c8",
   "metadata": {},
   "source": [
    "## Import Libraries"
   ]
  },
  {
   "cell_type": "code",
   "execution_count": 280,
   "id": "fcdb118d-5f17-4b86-bc9e-cb7d4a05d220",
   "metadata": {},
   "outputs": [],
   "source": [
    "import pandas as pd\n",
    "import numpy as np"
   ]
  },
  {
   "cell_type": "markdown",
   "id": "a6b04170-6799-428e-bc32-1e546ba5f1aa",
   "metadata": {},
   "source": [
    "## Exploring Data"
   ]
  },
  {
   "cell_type": "code",
   "execution_count": 167,
   "id": "0f190cd6-14df-4ee7-b6ec-44e576abb341",
   "metadata": {},
   "outputs": [],
   "source": [
    "df = pd.read_csv('adult.data.csv')"
   ]
  },
  {
   "cell_type": "code",
   "execution_count": 168,
   "id": "535ef00d-40b8-43a7-aeb1-25d66f453629",
   "metadata": {},
   "outputs": [
    {
     "data": {
      "text/html": [
       "<div>\n",
       "<style scoped>\n",
       "    .dataframe tbody tr th:only-of-type {\n",
       "        vertical-align: middle;\n",
       "    }\n",
       "\n",
       "    .dataframe tbody tr th {\n",
       "        vertical-align: top;\n",
       "    }\n",
       "\n",
       "    .dataframe thead th {\n",
       "        text-align: right;\n",
       "    }\n",
       "</style>\n",
       "<table border=\"1\" class=\"dataframe\">\n",
       "  <thead>\n",
       "    <tr style=\"text-align: right;\">\n",
       "      <th></th>\n",
       "      <th>age</th>\n",
       "      <th>workclass</th>\n",
       "      <th>fnlwgt</th>\n",
       "      <th>education</th>\n",
       "      <th>education-num</th>\n",
       "      <th>marital-status</th>\n",
       "      <th>occupation</th>\n",
       "      <th>relationship</th>\n",
       "      <th>race</th>\n",
       "      <th>sex</th>\n",
       "      <th>capital-gain</th>\n",
       "      <th>capital-loss</th>\n",
       "      <th>hours-per-week</th>\n",
       "      <th>native-country</th>\n",
       "      <th>salary</th>\n",
       "    </tr>\n",
       "  </thead>\n",
       "  <tbody>\n",
       "    <tr>\n",
       "      <th>0</th>\n",
       "      <td>39</td>\n",
       "      <td>State-gov</td>\n",
       "      <td>77516</td>\n",
       "      <td>Bachelors</td>\n",
       "      <td>13</td>\n",
       "      <td>Never-married</td>\n",
       "      <td>Adm-clerical</td>\n",
       "      <td>Not-in-family</td>\n",
       "      <td>White</td>\n",
       "      <td>Male</td>\n",
       "      <td>2174</td>\n",
       "      <td>0</td>\n",
       "      <td>40</td>\n",
       "      <td>United-States</td>\n",
       "      <td>&lt;=50K</td>\n",
       "    </tr>\n",
       "    <tr>\n",
       "      <th>1</th>\n",
       "      <td>50</td>\n",
       "      <td>Self-emp-not-inc</td>\n",
       "      <td>83311</td>\n",
       "      <td>Bachelors</td>\n",
       "      <td>13</td>\n",
       "      <td>Married-civ-spouse</td>\n",
       "      <td>Exec-managerial</td>\n",
       "      <td>Husband</td>\n",
       "      <td>White</td>\n",
       "      <td>Male</td>\n",
       "      <td>0</td>\n",
       "      <td>0</td>\n",
       "      <td>13</td>\n",
       "      <td>United-States</td>\n",
       "      <td>&lt;=50K</td>\n",
       "    </tr>\n",
       "    <tr>\n",
       "      <th>2</th>\n",
       "      <td>38</td>\n",
       "      <td>Private</td>\n",
       "      <td>215646</td>\n",
       "      <td>HS-grad</td>\n",
       "      <td>9</td>\n",
       "      <td>Divorced</td>\n",
       "      <td>Handlers-cleaners</td>\n",
       "      <td>Not-in-family</td>\n",
       "      <td>White</td>\n",
       "      <td>Male</td>\n",
       "      <td>0</td>\n",
       "      <td>0</td>\n",
       "      <td>40</td>\n",
       "      <td>United-States</td>\n",
       "      <td>&lt;=50K</td>\n",
       "    </tr>\n",
       "    <tr>\n",
       "      <th>3</th>\n",
       "      <td>53</td>\n",
       "      <td>Private</td>\n",
       "      <td>234721</td>\n",
       "      <td>11th</td>\n",
       "      <td>7</td>\n",
       "      <td>Married-civ-spouse</td>\n",
       "      <td>Handlers-cleaners</td>\n",
       "      <td>Husband</td>\n",
       "      <td>Black</td>\n",
       "      <td>Male</td>\n",
       "      <td>0</td>\n",
       "      <td>0</td>\n",
       "      <td>40</td>\n",
       "      <td>United-States</td>\n",
       "      <td>&lt;=50K</td>\n",
       "    </tr>\n",
       "    <tr>\n",
       "      <th>4</th>\n",
       "      <td>28</td>\n",
       "      <td>Private</td>\n",
       "      <td>338409</td>\n",
       "      <td>Bachelors</td>\n",
       "      <td>13</td>\n",
       "      <td>Married-civ-spouse</td>\n",
       "      <td>Prof-specialty</td>\n",
       "      <td>Wife</td>\n",
       "      <td>Black</td>\n",
       "      <td>Female</td>\n",
       "      <td>0</td>\n",
       "      <td>0</td>\n",
       "      <td>40</td>\n",
       "      <td>Cuba</td>\n",
       "      <td>&lt;=50K</td>\n",
       "    </tr>\n",
       "  </tbody>\n",
       "</table>\n",
       "</div>"
      ],
      "text/plain": [
       "   age         workclass  fnlwgt  education  education-num  \\\n",
       "0   39         State-gov   77516  Bachelors             13   \n",
       "1   50  Self-emp-not-inc   83311  Bachelors             13   \n",
       "2   38           Private  215646    HS-grad              9   \n",
       "3   53           Private  234721       11th              7   \n",
       "4   28           Private  338409  Bachelors             13   \n",
       "\n",
       "       marital-status         occupation   relationship   race     sex  \\\n",
       "0       Never-married       Adm-clerical  Not-in-family  White    Male   \n",
       "1  Married-civ-spouse    Exec-managerial        Husband  White    Male   \n",
       "2            Divorced  Handlers-cleaners  Not-in-family  White    Male   \n",
       "3  Married-civ-spouse  Handlers-cleaners        Husband  Black    Male   \n",
       "4  Married-civ-spouse     Prof-specialty           Wife  Black  Female   \n",
       "\n",
       "   capital-gain  capital-loss  hours-per-week native-country salary  \n",
       "0          2174             0              40  United-States  <=50K  \n",
       "1             0             0              13  United-States  <=50K  \n",
       "2             0             0              40  United-States  <=50K  \n",
       "3             0             0              40  United-States  <=50K  \n",
       "4             0             0              40           Cuba  <=50K  "
      ]
     },
     "execution_count": 168,
     "metadata": {},
     "output_type": "execute_result"
    }
   ],
   "source": [
    "df.head()"
   ]
  },
  {
   "cell_type": "code",
   "execution_count": 171,
   "id": "2cf7912c-60c6-41f9-a071-5946fbc3aa44",
   "metadata": {},
   "outputs": [
    {
     "data": {
      "text/plain": [
       "(32561, 15)"
      ]
     },
     "execution_count": 171,
     "metadata": {},
     "output_type": "execute_result"
    }
   ],
   "source": [
    "df.shape"
   ]
  },
  {
   "cell_type": "code",
   "execution_count": 174,
   "id": "a9ce4e9b-37a9-4e02-9f8b-4f765d1e5fdd",
   "metadata": {},
   "outputs": [
    {
     "data": {
      "text/plain": [
       "Index(['age', 'workclass', 'fnlwgt', 'education', 'education-num',\n",
       "       'marital-status', 'occupation', 'relationship', 'race', 'sex',\n",
       "       'capital-gain', 'capital-loss', 'hours-per-week', 'native-country',\n",
       "       'salary'],\n",
       "      dtype='object')"
      ]
     },
     "execution_count": 174,
     "metadata": {},
     "output_type": "execute_result"
    }
   ],
   "source": [
    "df.columns"
   ]
  },
  {
   "cell_type": "markdown",
   "id": "b9f52aa2-bc78-4dc9-8503-f8df5cbf9b50",
   "metadata": {},
   "source": [
    "## Cleaning Data"
   ]
  },
  {
   "cell_type": "code",
   "execution_count": 177,
   "id": "ca187f7a-7c77-408d-b9bf-b42084c517a9",
   "metadata": {},
   "outputs": [
    {
     "data": {
      "text/plain": [
       "True"
      ]
     },
     "execution_count": 177,
     "metadata": {},
     "output_type": "execute_result"
    }
   ],
   "source": [
    "#any duplicates\n",
    "df.duplicated().any()"
   ]
  },
  {
   "cell_type": "code",
   "execution_count": 179,
   "id": "0a01cde5-3dfd-4c0c-b36b-1596ddc9c001",
   "metadata": {},
   "outputs": [
    {
     "data": {
      "text/plain": [
       "24"
      ]
     },
     "execution_count": 179,
     "metadata": {},
     "output_type": "execute_result"
    }
   ],
   "source": [
    "# Finding how many are duplicates\n",
    "df.duplicated().sum()\n"
   ]
  },
  {
   "cell_type": "code",
   "execution_count": 181,
   "id": "2e8e640d-60f1-45ff-844c-7f50f9ebeedb",
   "metadata": {},
   "outputs": [],
   "source": [
    "#removing the duplicates\n",
    "df = df.drop_duplicates()"
   ]
  },
  {
   "cell_type": "code",
   "execution_count": 182,
   "id": "ed0927bf-684c-4901-816a-a8961a3a4400",
   "metadata": {},
   "outputs": [
    {
     "data": {
      "text/plain": [
       "(32537, 15)"
      ]
     },
     "execution_count": 182,
     "metadata": {},
     "output_type": "execute_result"
    }
   ],
   "source": [
    "df.shape"
   ]
  },
  {
   "cell_type": "code",
   "execution_count": 185,
   "id": "c4a27ef3-6580-4e73-b5d3-18d7b8094524",
   "metadata": {},
   "outputs": [
    {
     "name": "stdout",
     "output_type": "stream",
     "text": [
      "age - 0.0000\n",
      "workclass - 0.0564\n",
      "fnlwgt - 0.0000\n",
      "education - 0.0000\n",
      "education-num - 0.0000\n",
      "marital-status - 0.0000\n",
      "occupation - 0.0566\n",
      "relationship - 0.0000\n",
      "race - 0.0000\n",
      "sex - 0.0000\n",
      "capital-gain - 0.0000\n",
      "capital-loss - 0.0000\n",
      "hours-per-week - 0.0000\n",
      "native-country - 0.0179\n",
      "salary - 0.0000\n"
     ]
    }
   ],
   "source": [
    "# finding how many null values\n",
    "suspicious = [\"?\", \"N/A\", \"None\", \"--\", \"\"]\n",
    "\n",
    "for col in df.columns:\n",
    "    pct_missing = np.mean(df[col].isin(suspicious))\n",
    "    print(f\"{col} - {pct_missing:.4f}\")\n"
   ]
  },
  {
   "cell_type": "code",
   "execution_count": 187,
   "id": "918323a6-bdf7-4d25-8ba1-e41537317cb8",
   "metadata": {},
   "outputs": [
    {
     "data": {
      "text/plain": [
       "age                  0\n",
       "workclass         1836\n",
       "fnlwgt               0\n",
       "education            0\n",
       "education-num        0\n",
       "marital-status       0\n",
       "occupation        1843\n",
       "relationship         0\n",
       "race                 0\n",
       "sex                  0\n",
       "capital-gain         0\n",
       "capital-loss         0\n",
       "hours-per-week       0\n",
       "native-country     582\n",
       "salary               0\n",
       "dtype: int64"
      ]
     },
     "execution_count": 187,
     "metadata": {},
     "output_type": "execute_result"
    }
   ],
   "source": [
    "(df.isin(suspicious)).sum()"
   ]
  },
  {
   "cell_type": "code",
   "execution_count": 189,
   "id": "ca31244b-d567-4150-a229-193f9c22f9e2",
   "metadata": {},
   "outputs": [
    {
     "data": {
      "text/plain": [
       "workclass\n",
       "Private             22673\n",
       "Self-emp-not-inc     2540\n",
       "Local-gov            2093\n",
       "?                    1836\n",
       "State-gov            1298\n",
       "Self-emp-inc         1116\n",
       "Federal-gov           960\n",
       "Without-pay            14\n",
       "Never-worked            7\n",
       "Name: count, dtype: int64"
      ]
     },
     "execution_count": 189,
     "metadata": {},
     "output_type": "execute_result"
    }
   ],
   "source": [
    "df['workclass'].value_counts()"
   ]
  },
  {
   "cell_type": "code",
   "execution_count": 191,
   "id": "e2b87904-390d-4d4f-b91d-9fd7a365ae97",
   "metadata": {},
   "outputs": [],
   "source": [
    "df.replace(\"?\", pd.NA, inplace=True)"
   ]
  },
  {
   "cell_type": "code",
   "execution_count": 193,
   "id": "f4eb4e90-503f-494b-b687-4ea4ead63137",
   "metadata": {},
   "outputs": [
    {
     "data": {
      "text/plain": [
       "age                  0\n",
       "workclass         1836\n",
       "fnlwgt               0\n",
       "education            0\n",
       "education-num        0\n",
       "marital-status       0\n",
       "occupation        1843\n",
       "relationship         0\n",
       "race                 0\n",
       "sex                  0\n",
       "capital-gain         0\n",
       "capital-loss         0\n",
       "hours-per-week       0\n",
       "native-country     582\n",
       "salary               0\n",
       "dtype: int64"
      ]
     },
     "execution_count": 193,
     "metadata": {},
     "output_type": "execute_result"
    }
   ],
   "source": [
    "df.isna().sum()"
   ]
  },
  {
   "cell_type": "code",
   "execution_count": 195,
   "id": "955c8951-4966-41f0-acdb-292a05215827",
   "metadata": {},
   "outputs": [],
   "source": [
    "df = df.dropna()"
   ]
  },
  {
   "cell_type": "code",
   "execution_count": 197,
   "id": "9ea600a0-1b49-492f-ab7d-701b61843b93",
   "metadata": {},
   "outputs": [
    {
     "data": {
      "text/plain": [
       "age               0\n",
       "workclass         0\n",
       "fnlwgt            0\n",
       "education         0\n",
       "education-num     0\n",
       "marital-status    0\n",
       "occupation        0\n",
       "relationship      0\n",
       "race              0\n",
       "sex               0\n",
       "capital-gain      0\n",
       "capital-loss      0\n",
       "hours-per-week    0\n",
       "native-country    0\n",
       "salary            0\n",
       "dtype: int64"
      ]
     },
     "execution_count": 197,
     "metadata": {},
     "output_type": "execute_result"
    }
   ],
   "source": [
    "df.isna().sum()"
   ]
  },
  {
   "cell_type": "markdown",
   "id": "9994f475-5023-4842-8234-86ef4028da8c",
   "metadata": {},
   "source": [
    "## Dataset is now clean"
   ]
  },
  {
   "cell_type": "markdown",
   "id": "28c7caf2-b897-4f57-9494-61e1d43545aa",
   "metadata": {},
   "source": [
    "### How many people of each race are represented in this dataset?"
   ]
  },
  {
   "cell_type": "code",
   "execution_count": 201,
   "id": "8580713b-1627-4aab-8a08-f8a315d36a28",
   "metadata": {},
   "outputs": [],
   "source": [
    "race_count = df['race']\n"
   ]
  },
  {
   "cell_type": "code",
   "execution_count": 203,
   "id": "0962dff9-a5cb-44fd-abbf-200d79bf5e31",
   "metadata": {},
   "outputs": [
    {
     "data": {
      "text/plain": [
       "race\n",
       "White                 25912\n",
       "Black                  2816\n",
       "Asian-Pac-Islander      894\n",
       "Amer-Indian-Eskimo      286\n",
       "Other                   231\n",
       "Name: count, dtype: int64"
      ]
     },
     "execution_count": 203,
     "metadata": {},
     "output_type": "execute_result"
    }
   ],
   "source": [
    "race_count.value_counts()"
   ]
  },
  {
   "cell_type": "markdown",
   "id": "f4598848-2c8a-4ad2-9d52-e683866af17b",
   "metadata": {},
   "source": [
    "### What is the average age of men?"
   ]
  },
  {
   "cell_type": "code",
   "execution_count": 206,
   "id": "7be925e7-2cbf-4254-9bca-30fe0f038828",
   "metadata": {},
   "outputs": [],
   "source": [
    "average_age_men = df[df['sex'] == 'Male']['age']"
   ]
  },
  {
   "cell_type": "code",
   "execution_count": 208,
   "id": "4ffd220e-d1b4-49f7-87ca-73ebbe4311a3",
   "metadata": {},
   "outputs": [
    {
     "data": {
      "text/plain": [
       "39.2"
      ]
     },
     "execution_count": 208,
     "metadata": {},
     "output_type": "execute_result"
    }
   ],
   "source": [
    "round(average_age_men.mean(),1)"
   ]
  },
  {
   "cell_type": "markdown",
   "id": "971cd945-f076-4086-a8fc-7ac6af014f88",
   "metadata": {},
   "source": [
    "### What is the percentage of people who have a Bachelor's degree?"
   ]
  },
  {
   "cell_type": "code",
   "execution_count": 211,
   "id": "d0314de1-8679-4c80-9719-93975609f971",
   "metadata": {},
   "outputs": [],
   "source": [
    "total = df['education'].value_counts()"
   ]
  },
  {
   "cell_type": "code",
   "execution_count": 213,
   "id": "eef8d918-0f3e-4d22-aad2-747e64ac3d8b",
   "metadata": {},
   "outputs": [
    {
     "data": {
      "text/plain": [
       "education\n",
       "HS-grad         9834\n",
       "Some-college    6669\n",
       "Bachelors       5042\n",
       "Masters         1626\n",
       "Assoc-voc       1307\n",
       "11th            1048\n",
       "Assoc-acdm      1008\n",
       "10th             820\n",
       "7th-8th          556\n",
       "Prof-school      542\n",
       "9th              455\n",
       "12th             377\n",
       "Doctorate        375\n",
       "5th-6th          287\n",
       "1st-4th          149\n",
       "Preschool         44\n",
       "Name: count, dtype: int64"
      ]
     },
     "execution_count": 213,
     "metadata": {},
     "output_type": "execute_result"
    }
   ],
   "source": [
    "total"
   ]
  },
  {
   "cell_type": "code",
   "execution_count": 215,
   "id": "81152dd9-5dd0-4cc9-b5cf-a9d452cf1a1c",
   "metadata": {},
   "outputs": [],
   "source": [
    "percentage = round((total['Bachelors']/total.sum()) * 100,1)"
   ]
  },
  {
   "cell_type": "code",
   "execution_count": 217,
   "id": "e8279e29-29e7-4e87-81c3-79aaa00d0a5e",
   "metadata": {},
   "outputs": [
    {
     "name": "stdout",
     "output_type": "stream",
     "text": [
      "The percentage of people who have a Bachelor's degree is 16.7%\n"
     ]
    }
   ],
   "source": [
    "percentage_string = f\"The percentage of people who have a Bachelor's degree is {percentage}%\"\n",
    "print(percentage_string)"
   ]
  },
  {
   "cell_type": "markdown",
   "id": "9d1fedf2-14ba-40b9-97fe-863319fa8247",
   "metadata": {},
   "source": [
    "### What percentage of people with advanced education (Bachelors, Masters, or Doctorate) make more than 50K?"
   ]
  },
  {
   "cell_type": "code",
   "execution_count": 220,
   "id": "16c74e2a-fb0a-4ca4-ac32-3fe6e87ace0a",
   "metadata": {},
   "outputs": [],
   "source": [
    "advanced = df[ (df['education'] == 'Masters') | (df['education'] == 'Bachelors') | (df['education'] == 'Doctorate')] "
   ]
  },
  {
   "cell_type": "code",
   "execution_count": 222,
   "id": "528298ae-a8b5-4a58-b4d3-d0d559ca4fd8",
   "metadata": {},
   "outputs": [],
   "source": [
    "advanced_rich = advanced[advanced['salary'] == '>50K']"
   ]
  },
  {
   "cell_type": "code",
   "execution_count": 224,
   "id": "9db28393-733c-4c72-9a2e-77d4fc0b18bf",
   "metadata": {},
   "outputs": [],
   "source": [
    "percentage_advanced = round((advanced_rich.shape[0]/df.shape[0]) *100, 1)"
   ]
  },
  {
   "cell_type": "code",
   "execution_count": 226,
   "id": "0d8d21d2-bbeb-4288-bc22-41ee2d92e5a7",
   "metadata": {},
   "outputs": [
    {
     "data": {
      "text/plain": [
       "11.0"
      ]
     },
     "execution_count": 226,
     "metadata": {},
     "output_type": "execute_result"
    }
   ],
   "source": [
    "percentage_advanced"
   ]
  },
  {
   "cell_type": "markdown",
   "id": "e244fd3b-cee5-4622-b66f-635ddf9e8f69",
   "metadata": {},
   "source": [
    "### What percentage of people without advanced education make more than 50K?\n"
   ]
  },
  {
   "cell_type": "code",
   "execution_count": 228,
   "id": "4fbf2237-eb37-422f-bd6d-a4a079986736",
   "metadata": {},
   "outputs": [],
   "source": [
    "not_advanced = df[~df['education'].isin(['Bachelors','Masters','Doctorate'])]"
   ]
  },
  {
   "cell_type": "code",
   "execution_count": 229,
   "id": "7a21163e-8734-4559-97c7-4b1463b410fd",
   "metadata": {},
   "outputs": [],
   "source": [
    "not_advanced_rich = not_advanced[not_advanced['salary'] == '>50K']"
   ]
  },
  {
   "cell_type": "code",
   "execution_count": 230,
   "id": "f38d6e04-4f1b-49a1-809f-cd637cc09a3f",
   "metadata": {},
   "outputs": [],
   "source": [
    "percentage_not_advanced = round((not_advanced_rich.shape[0]/not_advanced.shape[0])*100,1)"
   ]
  },
  {
   "cell_type": "code",
   "execution_count": 231,
   "id": "2388a45e-0273-4263-b589-fa7423c7e015",
   "metadata": {},
   "outputs": [
    {
     "data": {
      "text/plain": [
       "18.1"
      ]
     },
     "execution_count": 231,
     "metadata": {},
     "output_type": "execute_result"
    }
   ],
   "source": [
    "percentage_not_advanced"
   ]
  },
  {
   "cell_type": "markdown",
   "id": "96d544de-6d61-49c0-a5ee-ab48e1d8ab7d",
   "metadata": {},
   "source": [
    "### What is the minimum number of hours a person works per week?"
   ]
  },
  {
   "cell_type": "code",
   "execution_count": 237,
   "id": "d15dab9a-b4b6-4020-9b53-7328f961d2fe",
   "metadata": {},
   "outputs": [
    {
     "data": {
      "text/plain": [
       "Index(['age', 'workclass', 'fnlwgt', 'education', 'education-num',\n",
       "       'marital-status', 'occupation', 'relationship', 'race', 'sex',\n",
       "       'capital-gain', 'capital-loss', 'hours-per-week', 'native-country',\n",
       "       'salary'],\n",
       "      dtype='object')"
      ]
     },
     "execution_count": 237,
     "metadata": {},
     "output_type": "execute_result"
    }
   ],
   "source": [
    "df.columns"
   ]
  },
  {
   "cell_type": "code",
   "execution_count": 238,
   "id": "6c5d837b-ebe4-45b5-a004-6285e9b9b2d1",
   "metadata": {},
   "outputs": [],
   "source": [
    "min_hours_per_week = df['hours-per-week'].min()"
   ]
  },
  {
   "cell_type": "code",
   "execution_count": 241,
   "id": "d1bc4694-811e-469d-8d77-da743a11bb50",
   "metadata": {},
   "outputs": [
    {
     "data": {
      "text/plain": [
       "1"
      ]
     },
     "execution_count": 241,
     "metadata": {},
     "output_type": "execute_result"
    }
   ],
   "source": [
    "min_hours_per_week"
   ]
  },
  {
   "cell_type": "markdown",
   "id": "80953420-f31a-4e84-82eb-c945193c736f",
   "metadata": {},
   "source": [
    "### What percentage of the people who work the minimum number of hours per week have a salary of more than 50K?"
   ]
  },
  {
   "cell_type": "code",
   "execution_count": 244,
   "id": "2cee83d2-9b42-4250-b853-e671ac5ceebb",
   "metadata": {},
   "outputs": [],
   "source": [
    "num_of_min_hours = df[df['hours-per-week'] == min_hours_per_week]"
   ]
  },
  {
   "cell_type": "code",
   "execution_count": 245,
   "id": "bca02266-4100-4df6-a7a5-6e4ab8ccf6da",
   "metadata": {},
   "outputs": [],
   "source": [
    "min_over_50k = num_of_min_hours[num_of_min_hours['salary'] == '>50K']"
   ]
  },
  {
   "cell_type": "code",
   "execution_count": 255,
   "id": "4d534280-f8d7-44d5-83f4-f61f052a0e0e",
   "metadata": {},
   "outputs": [],
   "source": [
    "percentage = round(min_over_50k.shape[0]/num_of_min_hours.shape[0] * 100,2)"
   ]
  },
  {
   "cell_type": "code",
   "execution_count": 257,
   "id": "f46e3310-de64-407e-9b91-b944f600bfb0",
   "metadata": {},
   "outputs": [
    {
     "data": {
      "text/plain": [
       "14.29"
      ]
     },
     "execution_count": 257,
     "metadata": {},
     "output_type": "execute_result"
    }
   ],
   "source": [
    "percentage"
   ]
  },
  {
   "cell_type": "markdown",
   "id": "eb919e58-4ff9-4bd6-85d4-7e2095dc0d9b",
   "metadata": {},
   "source": [
    "### What country has the highest percentage of people that earn >50K and what is that percentage?"
   ]
  },
  {
   "cell_type": "code",
   "execution_count": 260,
   "id": "74274058-f6ad-4aa6-aad9-4508dc627701",
   "metadata": {},
   "outputs": [],
   "source": [
    "high_earner = df[df['salary'] == '>50K']['native-country'].value_counts()"
   ]
  },
  {
   "cell_type": "code",
   "execution_count": 262,
   "id": "d3e8f679-2b96-4c50-a350-429ff2ded73d",
   "metadata": {},
   "outputs": [],
   "source": [
    "country_earnings = (high_earner/df['native-country'].value_counts()) * 100"
   ]
  },
  {
   "cell_type": "code",
   "execution_count": 266,
   "id": "9c0113b2-f73b-4fcb-bf45-77e3b30f1735",
   "metadata": {},
   "outputs": [
    {
     "data": {
      "text/plain": [
       "('Taiwan', 45.23809523809524)"
      ]
     },
     "execution_count": 266,
     "metadata": {},
     "output_type": "execute_result"
    }
   ],
   "source": [
    "highest = country_earnings.idxmax()\n",
    "highest, country_earnings.max()"
   ]
  },
  {
   "cell_type": "markdown",
   "id": "d357fbfd-ae85-4f84-86fa-6d8e626237aa",
   "metadata": {},
   "source": [
    "### Identify the most popular occupation for those who earn >50K in India.\n"
   ]
  },
  {
   "cell_type": "code",
   "execution_count": 274,
   "id": "a2aa8e9a-a553-4f4e-b997-5e9733cba130",
   "metadata": {},
   "outputs": [],
   "source": [
    "rich_in_india = df[(df['native-country'] == 'India') & (df['salary'] == '>50K')]"
   ]
  },
  {
   "cell_type": "code",
   "execution_count": 275,
   "id": "7d242d07-d860-4833-9d6e-888b670cd346",
   "metadata": {},
   "outputs": [
    {
     "data": {
      "text/plain": [
       "'Prof-specialty'"
      ]
     },
     "execution_count": 275,
     "metadata": {},
     "output_type": "execute_result"
    }
   ],
   "source": [
    "rich_in_india['occupation'].value_counts().idxmax()"
   ]
  }
 ],
 "metadata": {
  "kernelspec": {
   "display_name": "Python 3 (ipykernel)",
   "language": "python",
   "name": "python3"
  },
  "language_info": {
   "codemirror_mode": {
    "name": "ipython",
    "version": 3
   },
   "file_extension": ".py",
   "mimetype": "text/x-python",
   "name": "python",
   "nbconvert_exporter": "python",
   "pygments_lexer": "ipython3",
   "version": "3.12.4"
  }
 },
 "nbformat": 4,
 "nbformat_minor": 5
}
